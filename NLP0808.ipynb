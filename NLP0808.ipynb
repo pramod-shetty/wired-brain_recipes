{
  "nbformat": 4,
  "nbformat_minor": 0,
  "metadata": {
    "colab": {
      "name": "NLP0808.ipynb",
      "provenance": [],
      "collapsed_sections": [],
      "authorship_tag": "ABX9TyNu+/GpioA0JguHwDbymNBH",
      "include_colab_link": true
    },
    "kernelspec": {
      "name": "python3",
      "display_name": "Python 3"
    },
    "language_info": {
      "name": "python"
    }
  },
  "cells": [
    {
      "cell_type": "markdown",
      "metadata": {
        "id": "view-in-github",
        "colab_type": "text"
      },
      "source": [
        "<a href=\"https://colab.research.google.com/github/pramod-shetty/wired-brain_recipes/blob/master/NLP0808.ipynb\" target=\"_parent\"><img src=\"https://colab.research.google.com/assets/colab-badge.svg\" alt=\"Open In Colab\"/></a>"
      ]
    },
    {
      "cell_type": "code",
      "metadata": {
        "id": "BMGXduWyPZJH"
      },
      "source": [
        "import numpy\n",
        "from tensorflow.keras.layers import LSTM,Dense,Embedding\n",
        "from tensorflow.keras.models import Sequential\n",
        "#from tensorflow.keras.layers import Embedding\n",
        "from tensorflow.keras.preprocessing import sequence\n",
        "from tensorflow.keras.datasets import imdb\n",
        "numpy.random.seed(7)\n",
        "from tensorflow.keras.layers import Conv1D,MaxPool1D,Flatten,Dropout,LSTM\n"
      ],
      "execution_count": 10,
      "outputs": []
    },
    {
      "cell_type": "code",
      "metadata": {
        "id": "eMgeCEZxnrRh"
      },
      "source": [
        "#@title LSTM\n"
      ],
      "execution_count": null,
      "outputs": []
    },
    {
      "cell_type": "code",
      "metadata": {
        "colab": {
          "base_uri": "https://localhost:8080/"
        },
        "id": "MG3XeL-kUOx1",
        "outputId": "8dc63372-c26e-4305-9fb4-18dede1c12c5"
      },
      "source": [
        "#load the dataset but only keep top n words\n",
        "top_words = 5000\n",
        "(X_train,y_train),(X_test,y_test) = imdb.load_data(num_words=top_words)\n",
        "#truncate and pad input sequences\n",
        "max_length = 500\n",
        "X_train = sequence.pad_sequences(X_train, maxlen=max_length)\n",
        "X_test = sequence.pad_sequences(X_test, maxlen=max_length)\n",
        "#create the model\n",
        "model = Sequential()\n",
        "model.add(Embedding(input_dim=top_words, output_dim= 32, input_length=max_length))\n",
        "model.add(LSTM(100))\n",
        "model.add(Dense(1,activation='sigmoid'))\n",
        "#compile model\n",
        "model.compile(loss='binary_crossentropy',optimizer='adam',metrics=['accuracy'])\n",
        "print(model.summary())\n",
        "model.fit(X_train,y_train,epochs=3,batch_size=64)\n",
        "#final evaluation of the model\n",
        "scores = model.evaluate(X_test,y_test,verbose=0)\n",
        "print('Accuracy:%.3f' %(scores[1]*100))\n"
      ],
      "execution_count": 3,
      "outputs": [
        {
          "output_type": "stream",
          "text": [
            "<string>:6: VisibleDeprecationWarning: Creating an ndarray from ragged nested sequences (which is a list-or-tuple of lists-or-tuples-or ndarrays with different lengths or shapes) is deprecated. If you meant to do this, you must specify 'dtype=object' when creating the ndarray\n",
            "/usr/local/lib/python3.7/dist-packages/tensorflow/python/keras/datasets/imdb.py:155: VisibleDeprecationWarning: Creating an ndarray from ragged nested sequences (which is a list-or-tuple of lists-or-tuples-or ndarrays with different lengths or shapes) is deprecated. If you meant to do this, you must specify 'dtype=object' when creating the ndarray\n",
            "  x_train, y_train = np.array(xs[:idx]), np.array(labels[:idx])\n",
            "/usr/local/lib/python3.7/dist-packages/tensorflow/python/keras/datasets/imdb.py:156: VisibleDeprecationWarning: Creating an ndarray from ragged nested sequences (which is a list-or-tuple of lists-or-tuples-or ndarrays with different lengths or shapes) is deprecated. If you meant to do this, you must specify 'dtype=object' when creating the ndarray\n",
            "  x_test, y_test = np.array(xs[idx:]), np.array(labels[idx:])\n"
          ],
          "name": "stderr"
        },
        {
          "output_type": "stream",
          "text": [
            "Model: \"sequential_1\"\n",
            "_________________________________________________________________\n",
            "Layer (type)                 Output Shape              Param #   \n",
            "=================================================================\n",
            "embedding_1 (Embedding)      (None, 500, 32)           160000    \n",
            "_________________________________________________________________\n",
            "lstm_1 (LSTM)                (None, 100)               53200     \n",
            "_________________________________________________________________\n",
            "dense_1 (Dense)              (None, 1)                 101       \n",
            "=================================================================\n",
            "Total params: 213,301\n",
            "Trainable params: 213,301\n",
            "Non-trainable params: 0\n",
            "_________________________________________________________________\n",
            "None\n",
            "Epoch 1/3\n",
            "391/391 [==============================] - 15s 33ms/step - loss: 0.4945 - accuracy: 0.7523\n",
            "Epoch 2/3\n",
            "391/391 [==============================] - 12s 31ms/step - loss: 0.4087 - accuracy: 0.8239\n",
            "Epoch 3/3\n",
            "391/391 [==============================] - 12s 31ms/step - loss: 0.2911 - accuracy: 0.8821\n",
            "Accuracy:85.364\n"
          ],
          "name": "stdout"
        }
      ]
    },
    {
      "cell_type": "code",
      "metadata": {
        "id": "IxAlQoUhe68k"
      },
      "source": [
        "#@title 1D CNN\n"
      ],
      "execution_count": 2,
      "outputs": []
    },
    {
      "cell_type": "code",
      "metadata": {
        "colab": {
          "base_uri": "https://localhost:8080/"
        },
        "id": "3DB28VwSUO0H",
        "outputId": "6cd3d24e-67bb-4a67-e3b3-187e44aab273"
      },
      "source": [
        "# Using 1D ConvNet from previous section\n",
        "#define model\n",
        "model = Sequential()\n",
        "model.add(Embedding(input_dim=top_words,output_dim=32,input_length=max_length)) #input_length is the length of each input row\n",
        "model.add(Conv1D(filters= 32, kernel_size=8 , activation='relu'))\n",
        "model.add(MaxPool1D(pool_size=2))\n",
        "model.add(Flatten())\n",
        "model.add(Dense(10,activation='relu'))\n",
        "model.add(Dense(1,activation='sigmoid'))\n",
        "#compile network\n",
        "model.compile(loss='binary_crossentropy',optimizer='adam',metrics=['accuracy'])\n",
        "#model.fit(X_train,y_train,epochs=10,verbose=2)\n",
        "print(model.summary())\n",
        "model.fit(X_train,y_train,epochs=3,batch_size=64)\n",
        "#final evaluation of the model\n",
        "scores = model.evaluate(X_test,y_test,verbose=0)\n",
        "print('Accuracy:%.3f' %(scores[1]*100))\n"
      ],
      "execution_count": 15,
      "outputs": [
        {
          "output_type": "stream",
          "text": [
            "Model: \"sequential_9\"\n",
            "_________________________________________________________________\n",
            "Layer (type)                 Output Shape              Param #   \n",
            "=================================================================\n",
            "embedding_8 (Embedding)      (None, 500, 32)           160000    \n",
            "_________________________________________________________________\n",
            "conv1d_4 (Conv1D)            (None, 493, 32)           8224      \n",
            "_________________________________________________________________\n",
            "max_pooling1d_3 (MaxPooling1 (None, 246, 32)           0         \n",
            "_________________________________________________________________\n",
            "flatten_2 (Flatten)          (None, 7872)              0         \n",
            "_________________________________________________________________\n",
            "dense_9 (Dense)              (None, 10)                78730     \n",
            "_________________________________________________________________\n",
            "dense_10 (Dense)             (None, 1)                 11        \n",
            "=================================================================\n",
            "Total params: 246,965\n",
            "Trainable params: 246,965\n",
            "Non-trainable params: 0\n",
            "_________________________________________________________________\n",
            "None\n",
            "Epoch 1/3\n",
            "391/391 [==============================] - 4s 9ms/step - loss: 0.6933 - accuracy: 0.4958\n",
            "Epoch 2/3\n",
            "391/391 [==============================] - 3s 9ms/step - loss: 0.5597 - accuracy: 0.7237\n",
            "Epoch 3/3\n",
            "391/391 [==============================] - 3s 9ms/step - loss: 0.3580 - accuracy: 0.9037\n",
            "Accuracy:88.340\n"
          ],
          "name": "stdout"
        }
      ]
    },
    {
      "cell_type": "code",
      "metadata": {
        "id": "FReqdN2KjeEH"
      },
      "source": [
        "#this is good score and better convergence with record train time even though with more params"
      ],
      "execution_count": null,
      "outputs": []
    },
    {
      "cell_type": "code",
      "metadata": {
        "id": "d50JIIsFoUqM"
      },
      "source": [
        "#@title LSTM with Dropout layer\n"
      ],
      "execution_count": null,
      "outputs": []
    },
    {
      "cell_type": "code",
      "metadata": {
        "colab": {
          "base_uri": "https://localhost:8080/"
        },
        "id": "g03Uq7TEe7Pk",
        "outputId": "c291f030-acbd-493b-e7a9-3a7c2e7fbb87"
      },
      "source": [
        "from tensorflow.keras.layers import Dropout\n",
        "### LSTM with dropout\n",
        "#create the model\n",
        "model = Sequential()\n",
        "model.add(Embedding(input_dim=top_words, output_dim= 32, input_length=max_length))\n",
        "model.add(Dropout(0.2))\n",
        "model.add(LSTM(100))\n",
        "model.add(Dropout(0.2))\n",
        "model.add(Dense(1,activation='sigmoid'))\n",
        "#compile model\n",
        "model.compile(loss='binary_crossentropy',optimizer='adam',metrics=['accuracy'])\n",
        "print(model.summary())\n",
        "model.fit(X_train,y_train,epochs=3,batch_size=64)\n",
        "#final evaluation of the model\n",
        "scores = model.evaluate(X_test,y_test,verbose=0)\n",
        "print('Accuracy:%.3f' %(scores[1]*100))\n"
      ],
      "execution_count": 8,
      "outputs": [
        {
          "output_type": "stream",
          "text": [
            "Model: \"sequential_5\"\n",
            "_________________________________________________________________\n",
            "Layer (type)                 Output Shape              Param #   \n",
            "=================================================================\n",
            "embedding_4 (Embedding)      (None, 500, 32)           160000    \n",
            "_________________________________________________________________\n",
            "dropout (Dropout)            (None, 500, 32)           0         \n",
            "_________________________________________________________________\n",
            "lstm_2 (LSTM)                (None, 100)               53200     \n",
            "_________________________________________________________________\n",
            "dropout_1 (Dropout)          (None, 100)               0         \n",
            "_________________________________________________________________\n",
            "dense_6 (Dense)              (None, 1)                 101       \n",
            "=================================================================\n",
            "Total params: 213,301\n",
            "Trainable params: 213,301\n",
            "Non-trainable params: 0\n",
            "_________________________________________________________________\n",
            "None\n",
            "Epoch 1/3\n",
            "391/391 [==============================] - 37s 90ms/step - loss: 0.4765 - accuracy: 0.7582\n",
            "Epoch 2/3\n",
            "391/391 [==============================] - 12s 32ms/step - loss: 0.2789 - accuracy: 0.8900\n",
            "Epoch 3/3\n",
            "391/391 [==============================] - 12s 32ms/step - loss: 0.2471 - accuracy: 0.9032\n",
            "Accuracy:87.040\n"
          ],
          "name": "stdout"
        }
      ]
    },
    {
      "cell_type": "code",
      "metadata": {
        "id": "SOZRiZVae7UN"
      },
      "source": [
        "#More pronounced convergence and increased score"
      ],
      "execution_count": null,
      "outputs": []
    },
    {
      "cell_type": "code",
      "metadata": {
        "id": "Nh80d44Goevt"
      },
      "source": [
        "#@title LSTM with Input and Recurrent dropout\n"
      ],
      "execution_count": null,
      "outputs": []
    },
    {
      "cell_type": "code",
      "metadata": {
        "id": "BAoSUeh8jZRZ"
      },
      "source": [
        "#load the dataset but only keep top n words\n",
        "top_words = 5000\n",
        "(X_train,y_train),(X_test,y_test) = imdb.load_data(num_words=top_words)\n",
        "#truncate and pad input sequences\n",
        "max_length = 500\n",
        "X_train = sequence.pad_sequences(X_train, maxlen=max_length)\n",
        "X_test = sequence.pad_sequences(X_test, maxlen=max_length)\n",
        "#from tensorflow.keras.layers import Dropout\n",
        "#LSTM with input and Recurrent dropout\n",
        "#create the model\n",
        "model = Sequential()\n",
        "model.add(Embedding(input_dim=top_words, output_dim= 32, input_length=max_length))\n",
        "model.add(Dropout(0.2))\n",
        "model.add(LSTM(100,dropout=0.2,recurrent_dropout=0.2))\n",
        "#model.add(Dropout(0.2))\n",
        "model.add(Dense(1,activation='sigmoid'))\n",
        "#compile model\n",
        "model.compile(loss='binary_crossentropy',optimizer='adam',metrics=['accuracy'])\n",
        "print(model.summary())\n",
        "model.fit(X_train,y_train,epochs=3,batch_size=64)\n",
        "#final evaluation of the model\n",
        "scores = model.evaluate(X_test,y_test,verbose=0)\n",
        "print('Accuracy:%.3f' %(scores[1]*100))"
      ],
      "execution_count": null,
      "outputs": []
    },
    {
      "cell_type": "code",
      "metadata": {
        "id": "ky1S3s6ojZT4"
      },
      "source": [
        "#LSTM specific dropout although doesn't show a good accuracy, the convergence is \n",
        "#the best(no overfitting) when compared to layer wise dropout\n",
        "#The major drawback is it's time consuming\n",
        "#epochs can be increased to see if the accuracy score increases"
      ],
      "execution_count": null,
      "outputs": []
    },
    {
      "cell_type": "code",
      "metadata": {
        "id": "1K63TUwIlwyp"
      },
      "source": [
        "#@title CNN + LSTM"
      ],
      "execution_count": null,
      "outputs": []
    },
    {
      "cell_type": "code",
      "metadata": {
        "colab": {
          "base_uri": "https://localhost:8080/"
        },
        "id": "8yjGOeu6lw4C",
        "outputId": "2b7b157f-f1bc-4b44-bac9-5825e2d8fe46"
      },
      "source": [
        "#load the dataset but only keep top n words\n",
        "top_words = 5000\n",
        "(X_train,y_train),(X_test,y_test) = imdb.load_data(num_words=top_words)\n",
        "#truncate and pad input sequences\n",
        "max_length = 500\n",
        "X_train = sequence.pad_sequences(X_train, maxlen=max_length)\n",
        "X_test = sequence.pad_sequences(X_test, maxlen=max_length)"
      ],
      "execution_count": 12,
      "outputs": [
        {
          "output_type": "stream",
          "text": [
            "<string>:6: VisibleDeprecationWarning: Creating an ndarray from ragged nested sequences (which is a list-or-tuple of lists-or-tuples-or ndarrays with different lengths or shapes) is deprecated. If you meant to do this, you must specify 'dtype=object' when creating the ndarray\n",
            "/usr/local/lib/python3.7/dist-packages/tensorflow/python/keras/datasets/imdb.py:155: VisibleDeprecationWarning: Creating an ndarray from ragged nested sequences (which is a list-or-tuple of lists-or-tuples-or ndarrays with different lengths or shapes) is deprecated. If you meant to do this, you must specify 'dtype=object' when creating the ndarray\n",
            "  x_train, y_train = np.array(xs[:idx]), np.array(labels[:idx])\n",
            "/usr/local/lib/python3.7/dist-packages/tensorflow/python/keras/datasets/imdb.py:156: VisibleDeprecationWarning: Creating an ndarray from ragged nested sequences (which is a list-or-tuple of lists-or-tuples-or ndarrays with different lengths or shapes) is deprecated. If you meant to do this, you must specify 'dtype=object' when creating the ndarray\n",
            "  x_test, y_test = np.array(xs[idx:]), np.array(labels[idx:])\n"
          ],
          "name": "stderr"
        }
      ]
    },
    {
      "cell_type": "code",
      "metadata": {
        "colab": {
          "base_uri": "https://localhost:8080/"
        },
        "id": "UIi3cOBDlw1f",
        "outputId": "9b54f431-e967-44d6-f96a-d2cdea79de4f"
      },
      "source": [
        "#create the model\n",
        "model = Sequential()\n",
        "model.add(Embedding(input_dim=top_words, output_dim= 32, input_length=max_length))\n",
        "model.add(Conv1D(filters=32,kernel_size=3,activation='relu'))\n",
        "model.add(MaxPool1D(pool_size=2))\n",
        "#model.add(Dropout(0.2))\n",
        "model.add(LSTM(100))\n",
        "#model.add(Dropout(0.2))\n",
        "model.add(Dense(1,activation='sigmoid'))\n",
        "#compile model\n",
        "model.compile(loss='binary_crossentropy',optimizer='adam',metrics=['accuracy'])\n",
        "print(model.summary())\n",
        "model.fit(X_train,y_train,epochs=3,batch_size=64)\n",
        "#final evaluation of the model\n",
        "scores = model.evaluate(X_test,y_test,verbose=0)\n",
        "print('Accuracy:%.3f' %(scores[1]*100))"
      ],
      "execution_count": 14,
      "outputs": [
        {
          "output_type": "stream",
          "text": [
            "Model: \"sequential_8\"\n",
            "_________________________________________________________________\n",
            "Layer (type)                 Output Shape              Param #   \n",
            "=================================================================\n",
            "embedding_7 (Embedding)      (None, 500, 32)           160000    \n",
            "_________________________________________________________________\n",
            "conv1d_3 (Conv1D)            (None, 498, 32)           3104      \n",
            "_________________________________________________________________\n",
            "max_pooling1d_2 (MaxPooling1 (None, 249, 32)           0         \n",
            "_________________________________________________________________\n",
            "lstm_4 (LSTM)                (None, 100)               53200     \n",
            "_________________________________________________________________\n",
            "dense_8 (Dense)              (None, 1)                 101       \n",
            "=================================================================\n",
            "Total params: 216,405\n",
            "Trainable params: 216,405\n",
            "Non-trainable params: 0\n",
            "_________________________________________________________________\n",
            "None\n",
            "Epoch 1/3\n",
            "391/391 [==============================] - 10s 21ms/step - loss: 0.4609 - accuracy: 0.7700\n",
            "Epoch 2/3\n",
            "391/391 [==============================] - 8s 21ms/step - loss: 0.2528 - accuracy: 0.8984\n",
            "Epoch 3/3\n",
            "391/391 [==============================] - 8s 21ms/step - loss: 0.2090 - accuracy: 0.9208\n",
            "Accuracy:88.380\n"
          ],
          "name": "stdout"
        }
      ]
    },
    {
      "cell_type": "code",
      "metadata": {
        "id": "Tf3Ek5KBjZYX"
      },
      "source": [
        "#could get even better accuracy score with dropout"
      ],
      "execution_count": null,
      "outputs": []
    }
  ]
}